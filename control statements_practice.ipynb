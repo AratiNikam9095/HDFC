{
 "cells": [
  {
   "cell_type": "code",
   "execution_count": 1,
   "id": "bdcac9a6",
   "metadata": {},
   "outputs": [],
   "source": [
    "# if statements"
   ]
  },
  {
   "cell_type": "code",
   "execution_count": 2,
   "id": "1017990e",
   "metadata": {},
   "outputs": [
    {
     "name": "stdout",
     "output_type": "stream",
     "text": [
      "Enter the file name:st.pdf\n",
      "file is valid\n"
     ]
    }
   ],
   "source": [
    "file = input(\"Enter the file name:\")\n",
    "if file.endswith('.pdf'):\n",
    "    print(f\"file is valid\")"
   ]
  },
  {
   "cell_type": "code",
   "execution_count": 4,
   "id": "0743953f",
   "metadata": {},
   "outputs": [
    {
     "name": "stdout",
     "output_type": "stream",
     "text": [
      "Enter the age:44\n",
      "Thank you\n"
     ]
    }
   ],
   "source": [
    "age = int(input(\"Enter the age:\"))\n",
    "if age>=45:\n",
    "    print(F\"please take booster:\")\n",
    "print('Thank you')"
   ]
  },
  {
   "cell_type": "code",
   "execution_count": 11,
   "id": "3c5bfd2a",
   "metadata": {},
   "outputs": [
    {
     "name": "stdout",
     "output_type": "stream",
     "text": [
      "Enter the email:vhdghs@gmail.com\n",
      "Given email is valid[]\n"
     ]
    }
   ],
   "source": [
    "email = input(\"Enter the email:\")\n",
    "if \"gmail.com\" in email:\n",
    "    print(\"Given email is valid[]\")\n",
    "else:\n",
    "    print(f\"Given email is invalid[]\")\n"
   ]
  },
  {
   "cell_type": "code",
   "execution_count": 3,
   "id": "c97814e5",
   "metadata": {},
   "outputs": [
    {
     "name": "stdout",
     "output_type": "stream",
     "text": [
      "Enter the string:%\n",
      "None\n"
     ]
    }
   ],
   "source": [
    "str1 = input(\"Enter the string:\")\n",
    "if str1.isalpha():\n",
    "    print(\"Given string is alpha\")\n",
    "if str1.isnumeric():\n",
    "    print(f\"Given string is numeric\")\n",
    "else:\n",
    "    print(\"None\") "
   ]
  },
  {
   "cell_type": "code",
   "execution_count": 1,
   "id": "b742a8e8",
   "metadata": {},
   "outputs": [],
   "source": [
    "p = ['px123','gu56864','ghdf32566','hfgh46574']"
   ]
  },
  {
   "cell_type": "raw",
   "id": "da045f10",
   "metadata": {},
   "source": [
    "str_list = []\n",
    "int_list = []\n",
    "for j in p:\n",
    "        temp = ''\n",
    "        temp1 = ''\n",
    "        for i in j:\n",
    "            if i.isnumeric():\n",
    "                temp+=i\n",
    "            else:\n",
    "                temp1+=i\n",
    "        str_list.append(temp1)\n",
    "        int_list.append(temp)\n",
    "    "
   ]
  },
  {
   "cell_type": "code",
   "execution_count": 3,
   "id": "563272d7",
   "metadata": {},
   "outputs": [
    {
     "data": {
      "text/plain": [
       "['px', 'gu', 'ghdf', 'hfgh']"
      ]
     },
     "execution_count": 3,
     "metadata": {},
     "output_type": "execute_result"
    }
   ],
   "source": [
    "str_list"
   ]
  },
  {
   "cell_type": "code",
   "execution_count": 4,
   "id": "86578a07",
   "metadata": {},
   "outputs": [
    {
     "data": {
      "text/plain": [
       "['123', '56864', '32566', '46574']"
      ]
     },
     "execution_count": 4,
     "metadata": {},
     "output_type": "execute_result"
    }
   ],
   "source": [
    "int_list"
   ]
  },
  {
   "cell_type": "code",
   "execution_count": null,
   "id": "ee05f6bc",
   "metadata": {},
   "outputs": [],
   "source": []
  }
 ],
 "metadata": {
  "kernelspec": {
   "display_name": "Python 3 (ipykernel)",
   "language": "python",
   "name": "python3"
  },
  "language_info": {
   "codemirror_mode": {
    "name": "ipython",
    "version": 3
   },
   "file_extension": ".py",
   "mimetype": "text/x-python",
   "name": "python",
   "nbconvert_exporter": "python",
   "pygments_lexer": "ipython3",
   "version": "3.9.13"
  }
 },
 "nbformat": 4,
 "nbformat_minor": 5
}
